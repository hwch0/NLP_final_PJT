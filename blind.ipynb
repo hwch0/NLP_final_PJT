{
 "cells": [
  {
   "cell_type": "code",
   "execution_count": 113,
   "id": "1f4a2fb7",
   "metadata": {
    "scrolled": true
   },
   "outputs": [
    {
     "name": "stderr",
     "output_type": "stream",
     "text": [
      "<ipython-input-113-d81bf7df025c>:9: FutureWarning: Passing a negative integer is deprecated in version 1.0 and will not be supported in future version. Instead, use None to not limit the column width.\n",
      "  pd.set_option('display.max_colwidth', -1)\n"
     ]
    }
   ],
   "source": [
    "#step1.selenium 패키지와 time 모듈 import\n",
    "from selenium import webdriver\n",
    "from selenium.webdriver.common.keys import Keys\n",
    "import time\n",
    "import numpy as np\n",
    "import pandas as pd\n",
    "\n",
    "### DataFrame 행 넓이 최대 \n",
    "pd.set_option('display.max_colwidth', -1)\n"
   ]
  },
  {
   "cell_type": "code",
   "execution_count": 126,
   "id": "774980d8",
   "metadata": {
    "scrolled": true
   },
   "outputs": [
    {
     "name": "stderr",
     "output_type": "stream",
     "text": [
      "<ipython-input-126-20d3e369472b>:3: DeprecationWarning: executable_path has been deprecated, please pass in a Service object\n",
      "  driver = webdriver.Chrome(executable_path=\"/Users/USER/Desktop/datamining/chromedriver.exe\")  ##크롬드라이버가 설치된 위치\n"
     ]
    }
   ],
   "source": [
    "#step2.크롬드라이버로 url로 접속\n",
    "url = 'https://www.teamblind.com/kr/'\n",
    "driver = webdriver.Chrome(executable_path=\"/Users/USER/Desktop/datamining/chromedriver.exe\")  ##크롬드라이버가 설치된 위치\n",
    "driver.get(url)\n",
    "time.sleep(3)\n",
    "\n",
    "\n",
    "## 웹페이지 높이를 가져오기 위함\n",
    "driver.maximize_window()\n"
   ]
  },
  {
   "cell_type": "code",
   "execution_count": 204,
   "id": "8c48f987",
   "metadata": {
    "scrolled": false
   },
   "outputs": [
    {
     "name": "stdout",
     "output_type": "stream",
     "text": [
      "25\n",
      "['디지털 드로잉', '드로잉', '공예', '요리', '음료', '베이킹', '디저트', '음악', '운동', '라이프', '사진', '영상', '디자인', '개발', '데이터', '직무교육', '글쓰기', '언어', '외국어', '금융', '재테크', '창업', '부업', '성공 마인드', '아동 교육']\n",
      "['음악', '운동', '라이프', '사진', '영상', '디자인', '개발', '데이터', '직무교육', '글쓰기', '언어', '외국어', '금융', '재테크', '창업', '부업', '성공 마인드', '아동 교육']\n"
     ]
    }
   ],
   "source": [
    "#step3.키워드 전처리 '·' 포함된 단어 모두 분할하여 키워드 리스트 재정리\n",
    "\n",
    "category = ['디지털 드로잉', '드로잉', '공예', '요리 · 음료', '베이킹 · 디저트', '음악', '운동', '라이프', '사진 · 영상', '디자인', '개발 · 데이터', '직무교육', '글쓰기', '언어 · 외국어', '금융 · 재테크', '창업 · 부업', '성공 마인드', '아동 교육']\n",
    "\n",
    "keyword_list=[]\n",
    "\n",
    "for i in range(len(category)):\n",
    "    keyword = category[i].split(' · ')\n",
    "    keyword_list.extend(keyword)\n",
    "    \n",
    "print(len(keyword_list))\n",
    "print(keyword_list)\n",
    "print(keyword_list[7:])"
   ]
  },
  {
   "cell_type": "code",
   "execution_count": 243,
   "id": "ba3159ed",
   "metadata": {},
   "outputs": [],
   "source": [
    "### 스크롤 다운 시간 설정 함수 \n",
    "\n",
    "import datetime\n",
    "    \n",
    "    def doScrollDown(whileSeconds):\n",
    "        start = datetime.datetime.now()\n",
    "        end = start + datetime.timedelta(seconds=whileSeconds)\n",
    "        while True:\n",
    "            driver.execute_script('window.scrollTo(0, document.body.scrollHeight);')\n",
    "            time.sleep(1)\n",
    "            if datetime.datetime.now() > end:\n",
    "                break"
   ]
  },
  {
   "cell_type": "code",
   "execution_count": 244,
   "id": "d398f9f1",
   "metadata": {},
   "outputs": [],
   "source": [
    "## 필요한 리스트 선언 \n",
    "txt_list =[]      ### 내용\n",
    "past_list =[]     ### 날짜\n",
    "keywords =[]      ### 키워드"
   ]
  },
  {
   "cell_type": "code",
   "execution_count": 246,
   "id": "dc25a10b",
   "metadata": {
    "scrolled": true
   },
   "outputs": [
    {
     "name": "stderr",
     "output_type": "stream",
     "text": [
      "<ipython-input-246-f61b0d7b0911>:4: DeprecationWarning: find_element_by_* commands are deprecated. Please use find_element() instead\n",
      "  search_box = driver.find_element_by_css_selector(\".inp-srch\")\n",
      "<ipython-input-246-f61b0d7b0911>:33: DeprecationWarning: find_elements_by_* commands are deprecated. Please use find_elements() instead\n",
      "  pre_txt = driver.find_elements_by_class_name('pre-txt')\n",
      "<ipython-input-246-f61b0d7b0911>:34: DeprecationWarning: find_elements_by_* commands are deprecated. Please use find_elements() instead\n",
      "  pasts = driver.find_elements_by_class_name('past')\n"
     ]
    }
   ],
   "source": [
    "### keyword_list에 있는 키워드를 하나씩 가져와서 스롤링\n",
    "\n",
    "\n",
    "for k in range(len(keyword_list)):\n",
    "\n",
    "    query = keyword_list[k]\n",
    "    search_box = driver.find_element_by_css_selector(\".inp-srch\")\n",
    "    search_box.clear()\n",
    "    search_box.send_keys(query)\n",
    "    search_box.send_keys(Keys.RETURN)\n",
    "    time.sleep(2)\n",
    "    \n",
    "    doScrollDown(10) ### 스크롤 다운 시간 (초 단위)\n",
    "    \n",
    "\n",
    "\n",
    "### 사용안함 ###\n",
    "\n",
    "#    driver.execute_script(\"window.scrollTo(0,1000000)\") ## 스크롤 길이 제한\n",
    "#     SCROLL_PAUSE_SEC = 1\n",
    "\n",
    "#     # 스크롤 높이 가져옴\n",
    "#     last_height = driver.execute_script(\"return document.body.scrollHeight\")\n",
    "\n",
    "#     while True:\n",
    "#         # 끝까지 스크롤 다운\n",
    "#         driver.execute_script(\"window.scrollTo(0, document.body.scrollHeight);\")\n",
    "\n",
    "#         # 1초 대기\n",
    "#         time.sleep(SCROLL_PAUSE_SEC)\n",
    "\n",
    "#         # 스크롤 다운 후 스크롤 높이 다시 가져옴\n",
    "#         new_height = driver.execute_script(\"return document.body.scrollHeight\")\n",
    "#         if new_height == last_height:\n",
    "#             break\n",
    "#         last_height = new_height\n",
    "### 사용안함 ###    \n",
    "    \n",
    "    \n",
    "    pre_txt = driver.find_elements_by_class_name('pre-txt')  ### 웹페이지 상에 내용 경로 지정\n",
    "    pasts = driver.find_elements_by_class_name('past')       ### 웹페이지 상에 시간 경로 지정\n",
    "    a = 0\n",
    "    cnt = 0\n",
    "    \n",
    "    for i in pre_txt:\n",
    "        txt = i.text\n",
    "        txt_list.append(txt)\n",
    "        keywords.append(query)\n",
    "        past = pasts[a].text\n",
    "        past_list.append(past)\n",
    "        a= a+1\n",
    "        cnt = cnt +1\n",
    "        if(cnt == 500) :\n",
    "            break\n",
    "    \n",
    "        ##for a in pasts:\n",
    "            ##past = a.text\n",
    "            \n",
    "        ##past_list.append(past)\n",
    "    \n",
    "        \n",
    "    "
   ]
  },
  {
   "cell_type": "code",
   "execution_count": 247,
   "id": "095c6432",
   "metadata": {},
   "outputs": [],
   "source": [
    "### 리스트를 딕셔너리형태로 만들어 DataFrame으로 변환\n",
    "\n",
    "data = {\"contents\" : txt_list,\n",
    "       \"time\" : past_list,\n",
    "       \"keyword\" : keywords}  ## 출력된 데이터 양과 통일"
   ]
  },
  {
   "cell_type": "code",
   "execution_count": 248,
   "id": "5fbfc501",
   "metadata": {},
   "outputs": [
    {
     "name": "stdout",
     "output_type": "stream",
     "text": [
      "5498 5498 5498\n"
     ]
    }
   ],
   "source": [
    "### 리스트별 저장 데이터 개수 확인\n",
    "\n",
    "print(len(txt_list), len(past_list), len(keywords))"
   ]
  },
  {
   "cell_type": "code",
   "execution_count": 249,
   "id": "3cdab4a5",
   "metadata": {},
   "outputs": [
    {
     "data": {
      "text/html": [
       "<div>\n",
       "<style scoped>\n",
       "    .dataframe tbody tr th:only-of-type {\n",
       "        vertical-align: middle;\n",
       "    }\n",
       "\n",
       "    .dataframe tbody tr th {\n",
       "        vertical-align: top;\n",
       "    }\n",
       "\n",
       "    .dataframe thead th {\n",
       "        text-align: right;\n",
       "    }\n",
       "</style>\n",
       "<table border=\"1\" class=\"dataframe\">\n",
       "  <thead>\n",
       "    <tr style=\"text-align: right;\">\n",
       "      <th></th>\n",
       "      <th>contents</th>\n",
       "      <th>time</th>\n",
       "      <th>keyword</th>\n",
       "    </tr>\n",
       "  </thead>\n",
       "  <tbody>\n",
       "    <tr>\n",
       "      <th>0</th>\n",
       "      <td>라고 하기엔 3개 뿐이지만...😅 배우기 시작한지는 얼마 안되서 아직은 기초단계...</td>\n",
       "      <td>작성시간\\n2020.08.27.</td>\n",
       "      <td>디지털 드로잉</td>\n",
       "    </tr>\n",
       "    <tr>\n",
       "      <th>1</th>\n",
       "      <td>아이패드 vs 타블렛 뭐가 나을까?? 클래스 101 인가 그거 들을만 할까 들어본 형 누나들??</td>\n",
       "      <td>작성시간\\n2020.07.08.</td>\n",
       "      <td>디지털 드로잉</td>\n",
       "    </tr>\n",
       "    <tr>\n",
       "      <th>2</th>\n",
       "      <td>손으로 그리는 강의 추천하는 거 있나요?</td>\n",
       "      <td>작성시간\\n2020.08.29.</td>\n",
       "      <td>디지털 드로잉</td>\n",
       "    </tr>\n",
       "    <tr>\n",
       "      <th>3</th>\n",
       "      <td>그림 그리는 모임 경험해보고 싶어요 혼자 그리고 보니 발전이 좀 없는거 같아서 스터디 식으로 크로키나 인체 연습 과제처럼 하는 그런 모임 없을까요~?</td>\n",
       "      <td>작성시간\\n04.12</td>\n",
       "      <td>디지털 드로잉</td>\n",
       "    </tr>\n",
       "    <tr>\n",
       "      <th>4</th>\n",
       "      <td>요즘 반복되는 업무에 치이다보니 취미(좀 정적인것) 도전해보고 싶은데요 혹시 일산&amp;합정&amp;DMC 쪽에 취미로 해볼 수 있는 디지털드로잉 수업이나 강좌 있나요? 한번도 안해봐서 아직 장비는 없고 검색해봐두 전문학원이나 입시학원밖에 없어서요ㅠㅠ 이번에 D뮤지엄갔다가 디지털 드로잉에 꽂혀서 꼭 배워보고싶네요!! 취미로 하시는 분들 계시면 댓글 부탁드려요!^^</td>\n",
       "      <td>작성시간\\n2019.06.12.</td>\n",
       "      <td>디지털 드로잉</td>\n",
       "    </tr>\n",
       "    <tr>\n",
       "      <th>...</th>\n",
       "      <td>...</td>\n",
       "      <td>...</td>\n",
       "      <td>...</td>\n",
       "    </tr>\n",
       "    <tr>\n",
       "      <th>5493</th>\n",
       "      <td>생각의 흐름대로 편하게 적기 위해 간단체로 쓰니 양해바랍니다. ---------------------------------- 우연히 아래와 같이 너무 걱정되어 잠이 안온다는 하소연 글을 보게 되었다. 본문 이미지 나도 저런 신혼부부시절이 있었는데 벌써 시간이 많이 흘렀다. 세월 참 빠르다. 대학 시험 볼때, 결혼할 때, 아이 낳을 때가 어제 같은데 말이다. 위 글을 읽으면서 그 시간을 지나온 평범한 한 아빠로서 몇 생각이 들어 적어본다. 1. 아직 젊은데 너무 걱정할 것 없다. 언론에서 집값 상승한다고 너무 떠들기는 한</td>\n",
       "      <td>작성시간\\n2020.07.02.</td>\n",
       "      <td>아동 교육</td>\n",
       "    </tr>\n",
       "    <tr>\n",
       "      <th>5494</th>\n",
       "      <td>#오늘의뉴스 2020년 9월7일 1. 당정청, 7조원대 4차 추경 합의 → 전 국민 50%가량 지원 받을 듯. 특수고용직 등 고용 취약계층, 매출 감소 소상공인, 저소득층 긴급생계비, 통신비 지원 등 2500만명선.(국민) 2. 전체 범죄 감소하는데 사기 범죄는 늘어 → 2018년 전체 범죄는 4.8% 감소... 민생형 범죄인 온라인 거래, 부동산 사기등 사기범죄는 오히려 15.2% 늘어. &lt;2019 범죄백서&gt; 발표. 솜방이이 처벌도 원인. (세계) 3. ‘테스 형!’ → 나훈아 신곡 제목. 여기서 ‘테스 형’은 소크</td>\n",
       "      <td>작성시간\\n2020.09.07.</td>\n",
       "      <td>아동 교육</td>\n",
       "    </tr>\n",
       "    <tr>\n",
       "      <th>5495</th>\n",
       "      <td>생각의 흐름대로 편하게 적기 위해 간단체로 쓰니 양해바랍니다. ---------------------------------- 우연히 아래와 같이 너무 걱정되어 잠이 안온다는 하소연 글을 보게 되었다. 본문 이미지 나도 저런 신혼부부시절이 있었는데 벌써 시간이 많이 흘렀다. 세월 참 빠르다. 대학 시험 볼때, 결혼할 때, 아이 낳을 때가 어제 같은데 말이다. 위 글을 읽으면서 그 시간을 지나온 평범한 한 아빠로서 몇 생각이 들어 적어본다. 1. 아직 젊은데 너무 걱정할 것 없다. 언론에서 집값 상승한다고 너무 떠들기는 한</td>\n",
       "      <td>작성시간\\n2020.07.02.</td>\n",
       "      <td>아동 교육</td>\n",
       "    </tr>\n",
       "    <tr>\n",
       "      <th>5496</th>\n",
       "      <td>#오늘의뉴스 2020년 9월7일 1. 당정청, 7조원대 4차 추경 합의 → 전 국민 50%가량 지원 받을 듯. 특수고용직 등 고용 취약계층, 매출 감소 소상공인, 저소득층 긴급생계비, 통신비 지원 등 2500만명선.(국민) 2. 전체 범죄 감소하는데 사기 범죄는 늘어 → 2018년 전체 범죄는 4.8% 감소... 민생형 범죄인 온라인 거래, 부동산 사기등 사기범죄는 오히려 15.2% 늘어. &lt;2019 범죄백서&gt; 발표. 솜방이이 처벌도 원인. (세계) 3. ‘테스 형!’ → 나훈아 신곡 제목. 여기서 ‘테스 형’은 소크</td>\n",
       "      <td>작성시간\\n2020.09.07.</td>\n",
       "      <td>아동 교육</td>\n",
       "    </tr>\n",
       "    <tr>\n",
       "      <th>5497</th>\n",
       "      <td>생각의 흐름대로 편하게 적기 위해 간단체로 쓰니 양해바랍니다. ---------------------------------- 우연히 아래와 같이 너무 걱정되어 잠이 안온다는 하소연 글을 보게 되었다. 본문 이미지 나도 저런 신혼부부시절이 있었는데 벌써 시간이 많이 흘렀다. 세월 참 빠르다. 대학 시험 볼때, 결혼할 때, 아이 낳을 때가 어제 같은데 말이다. 위 글을 읽으면서 그 시간을 지나온 평범한 한 아빠로서 몇 생각이 들어 적어본다. 1. 아직 젊은데 너무 걱정할 것 없다. 언론에서 집값 상승한다고 너무 떠들기는 한</td>\n",
       "      <td>작성시간\\n2020.07.02.</td>\n",
       "      <td>아동 교육</td>\n",
       "    </tr>\n",
       "  </tbody>\n",
       "</table>\n",
       "<p>5498 rows × 3 columns</p>\n",
       "</div>"
      ],
      "text/plain": [
       "                                                                                                                                                                                                                                                                                                   contents  \\\n",
       "0     라고 하기엔 3개 뿐이지만...😅 배우기 시작한지는 얼마 안되서 아직은 기초단계...                                                                                                                                                                                                                                                         \n",
       "1     아이패드 vs 타블렛 뭐가 나을까?? 클래스 101 인가 그거 들을만 할까 들어본 형 누나들??                                                                                                                                                                                                                                                   \n",
       "2     손으로 그리는 강의 추천하는 거 있나요?                                                                                                                                                                                                                                                                                  \n",
       "3     그림 그리는 모임 경험해보고 싶어요 혼자 그리고 보니 발전이 좀 없는거 같아서 스터디 식으로 크로키나 인체 연습 과제처럼 하는 그런 모임 없을까요~?                                                                                                                                                                                                                     \n",
       "4     요즘 반복되는 업무에 치이다보니 취미(좀 정적인것) 도전해보고 싶은데요 혹시 일산&합정&DMC 쪽에 취미로 해볼 수 있는 디지털드로잉 수업이나 강좌 있나요? 한번도 안해봐서 아직 장비는 없고 검색해봐두 전문학원이나 입시학원밖에 없어서요ㅠㅠ 이번에 D뮤지엄갔다가 디지털 드로잉에 꽂혀서 꼭 배워보고싶네요!! 취미로 하시는 분들 계시면 댓글 부탁드려요!^^                                                                                                   \n",
       "...                                                                                                                                                                                                     ...                                                                                                   \n",
       "5493  생각의 흐름대로 편하게 적기 위해 간단체로 쓰니 양해바랍니다. ---------------------------------- 우연히 아래와 같이 너무 걱정되어 잠이 안온다는 하소연 글을 보게 되었다. 본문 이미지 나도 저런 신혼부부시절이 있었는데 벌써 시간이 많이 흘렀다. 세월 참 빠르다. 대학 시험 볼때, 결혼할 때, 아이 낳을 때가 어제 같은데 말이다. 위 글을 읽으면서 그 시간을 지나온 평범한 한 아빠로서 몇 생각이 들어 적어본다. 1. 아직 젊은데 너무 걱정할 것 없다. 언론에서 집값 상승한다고 너무 떠들기는 한   \n",
       "5494  #오늘의뉴스 2020년 9월7일 1. 당정청, 7조원대 4차 추경 합의 → 전 국민 50%가량 지원 받을 듯. 특수고용직 등 고용 취약계층, 매출 감소 소상공인, 저소득층 긴급생계비, 통신비 지원 등 2500만명선.(국민) 2. 전체 범죄 감소하는데 사기 범죄는 늘어 → 2018년 전체 범죄는 4.8% 감소... 민생형 범죄인 온라인 거래, 부동산 사기등 사기범죄는 오히려 15.2% 늘어. <2019 범죄백서> 발표. 솜방이이 처벌도 원인. (세계) 3. ‘테스 형!’ → 나훈아 신곡 제목. 여기서 ‘테스 형’은 소크    \n",
       "5495  생각의 흐름대로 편하게 적기 위해 간단체로 쓰니 양해바랍니다. ---------------------------------- 우연히 아래와 같이 너무 걱정되어 잠이 안온다는 하소연 글을 보게 되었다. 본문 이미지 나도 저런 신혼부부시절이 있었는데 벌써 시간이 많이 흘렀다. 세월 참 빠르다. 대학 시험 볼때, 결혼할 때, 아이 낳을 때가 어제 같은데 말이다. 위 글을 읽으면서 그 시간을 지나온 평범한 한 아빠로서 몇 생각이 들어 적어본다. 1. 아직 젊은데 너무 걱정할 것 없다. 언론에서 집값 상승한다고 너무 떠들기는 한   \n",
       "5496  #오늘의뉴스 2020년 9월7일 1. 당정청, 7조원대 4차 추경 합의 → 전 국민 50%가량 지원 받을 듯. 특수고용직 등 고용 취약계층, 매출 감소 소상공인, 저소득층 긴급생계비, 통신비 지원 등 2500만명선.(국민) 2. 전체 범죄 감소하는데 사기 범죄는 늘어 → 2018년 전체 범죄는 4.8% 감소... 민생형 범죄인 온라인 거래, 부동산 사기등 사기범죄는 오히려 15.2% 늘어. <2019 범죄백서> 발표. 솜방이이 처벌도 원인. (세계) 3. ‘테스 형!’ → 나훈아 신곡 제목. 여기서 ‘테스 형’은 소크    \n",
       "5497  생각의 흐름대로 편하게 적기 위해 간단체로 쓰니 양해바랍니다. ---------------------------------- 우연히 아래와 같이 너무 걱정되어 잠이 안온다는 하소연 글을 보게 되었다. 본문 이미지 나도 저런 신혼부부시절이 있었는데 벌써 시간이 많이 흘렀다. 세월 참 빠르다. 대학 시험 볼때, 결혼할 때, 아이 낳을 때가 어제 같은데 말이다. 위 글을 읽으면서 그 시간을 지나온 평범한 한 아빠로서 몇 생각이 들어 적어본다. 1. 아직 젊은데 너무 걱정할 것 없다. 언론에서 집값 상승한다고 너무 떠들기는 한   \n",
       "\n",
       "                   time  keyword  \n",
       "0     작성시간\\n2020.08.27.  디지털 드로잉  \n",
       "1     작성시간\\n2020.07.08.  디지털 드로잉  \n",
       "2     작성시간\\n2020.08.29.  디지털 드로잉  \n",
       "3     작성시간\\n04.12        디지털 드로잉  \n",
       "4     작성시간\\n2019.06.12.  디지털 드로잉  \n",
       "...                 ...      ...  \n",
       "5493  작성시간\\n2020.07.02.  아동 교육    \n",
       "5494  작성시간\\n2020.09.07.  아동 교육    \n",
       "5495  작성시간\\n2020.07.02.  아동 교육    \n",
       "5496  작성시간\\n2020.09.07.  아동 교육    \n",
       "5497  작성시간\\n2020.07.02.  아동 교육    \n",
       "\n",
       "[5498 rows x 3 columns]"
      ]
     },
     "execution_count": 249,
     "metadata": {},
     "output_type": "execute_result"
    }
   ],
   "source": [
    "### DataFrame형태로 변환\n",
    "\n",
    "df = pd.DataFrame(data)\n",
    "df"
   ]
  },
  {
   "cell_type": "code",
   "execution_count": 250,
   "id": "b88aaf11",
   "metadata": {
    "scrolled": true
   },
   "outputs": [
    {
     "data": {
      "text/plain": [
       "(5498, 3)"
      ]
     },
     "execution_count": 250,
     "metadata": {},
     "output_type": "execute_result"
    }
   ],
   "source": [
    "df.shape"
   ]
  },
  {
   "cell_type": "code",
   "execution_count": 251,
   "id": "7e41df3a",
   "metadata": {},
   "outputs": [
    {
     "name": "stdout",
     "output_type": "stream",
     "text": [
      "사진         250\n",
      "직무교육       250\n",
      "금융         250\n",
      "요리         250\n",
      "영상         250\n",
      "부업         250\n",
      "음악         250\n",
      "라이프        250\n",
      "음료         250\n",
      "외국어        250\n",
      "베이킹        250\n",
      "공예         250\n",
      "개발         250\n",
      "데이터        250\n",
      "운동         250\n",
      "창업         250\n",
      "언어         230\n",
      "디저트        230\n",
      "디자인        210\n",
      "드로잉        210\n",
      "재테크        210\n",
      "글쓰기        210\n",
      "성공 마인드     125\n",
      "아동 교육      62 \n",
      "디지털 드로잉    11 \n",
      "Name: keyword, dtype: int64\n"
     ]
    }
   ],
   "source": [
    "#### 키워드별 수집한 데이터 개수\n",
    "\n",
    "freq = df['keyword'].value_counts() \n",
    "print(freq) "
   ]
  },
  {
   "cell_type": "code",
   "execution_count": 252,
   "id": "68714a3a",
   "metadata": {},
   "outputs": [],
   "source": [
    "df.to_excel('blind_10s.xlsx')"
   ]
  },
  {
   "cell_type": "code",
   "execution_count": 253,
   "id": "a608a4f3",
   "metadata": {},
   "outputs": [],
   "source": [
    "df.to_csv('blind_10s.csv')"
   ]
  },
  {
   "cell_type": "code",
   "execution_count": null,
   "id": "aa1aca2d",
   "metadata": {},
   "outputs": [],
   "source": []
  }
 ],
 "metadata": {
  "kernelspec": {
   "display_name": "Python 3",
   "language": "python",
   "name": "python3"
  },
  "language_info": {
   "codemirror_mode": {
    "name": "ipython",
    "version": 3
   },
   "file_extension": ".py",
   "mimetype": "text/x-python",
   "name": "python",
   "nbconvert_exporter": "python",
   "pygments_lexer": "ipython3",
   "version": "3.8.8"
  }
 },
 "nbformat": 4,
 "nbformat_minor": 5
}
