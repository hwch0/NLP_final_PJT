{
 "cells": [
  {
   "cell_type": "code",
   "execution_count": 5,
   "metadata": {},
   "outputs": [
    {
     "name": "stderr",
     "output_type": "stream",
     "text": [
      "<ipython-input-5-8d91aa0ce72b>:13: DeprecationWarning: executable_path has been deprecated, please pass in a Service object\n",
      "  driver = webdriver.Chrome(executable_path=\"/Users/USER/Desktop/datamining/chromedriver.exe\")\n",
      "<ipython-input-5-8d91aa0ce72b>:18: DeprecationWarning: find_element_by_* commands are deprecated. Please use find_element() instead\n",
      "  search_box = driver.find_element_by_css_selector(\".SearchInput__Input-go705p-2.bxkgtv\")\n"
     ]
    }
   ],
   "source": [
    "### 참고사이트: https://coding-kindergarten.tistory.com/91\n",
    "\n",
    "#step1.selenium 패키지와 time 모듈 import\n",
    "from selenium import webdriver\n",
    "from selenium.webdriver.common.keys import Keys\n",
    "import time\n",
    "\n",
    "#step2.검색할 키워드 입력 (1차 크롤링에서 변수로 받아올 예정)\n",
    "query = '아이패드 드로잉'\n",
    "\n",
    "#step3.크롬드라이버로 url로 접속\n",
    "url = 'https://class101.net/categories/'\n",
    "driver = webdriver.Chrome(executable_path=\"/Users/USER/Desktop/datamining/chromedriver.exe\")  ##크롬드라이버가 설치된 위치\n",
    "driver.get(url)\n",
    "time.sleep(3)\n",
    "\n",
    "#step4.검색창에 키워드 입력 후 엔터\n",
    "search_box = driver.find_element_by_css_selector(\".SearchInput__Input-go705p-2.bxkgtv\")\n",
    "search_box.send_keys(query)\n",
    "search_box.send_keys(Keys.RETURN)\n",
    "time.sleep(2)\n",
    "\n",
    "\n",
    "\n"
   ]
  },
  {
   "cell_type": "code",
   "execution_count": 29,
   "metadata": {},
   "outputs": [
    {
     "name": "stderr",
     "output_type": "stream",
     "text": [
      "<ipython-input-29-f12a1ccc0d0a>:2: DeprecationWarning: find_elements_by_* commands are deprecated. Please use find_elements() instead\n",
      "  titles = driver.find_elements_by_css_selector(\".Card__Title-sc-1esp5o0-4.bVCpyh\")\n",
      "<ipython-input-29-f12a1ccc0d0a>:3: DeprecationWarning: find_elements_by_* commands are deprecated. Please use find_elements() instead\n",
      "  hrefs = driver.find_elements_by_css_selector(\".ProductCardfragment__HoverStyledLink-sc-1cja13i-0.bzmYOj\")\n"
     ]
    },
    {
     "name": "stdout",
     "output_type": "stream",
     "text": [
      "[🔥1+1클래스] 따뜻하고 감성적인 그림 만족도 1위 아이패드 드로잉 https://class101.net/products/QlYEuYEpdk6OnVxyUV60\n",
      "[⭐️블프특가] 가구 디자이너가 알려주는 아이패드 프로크리에이트 가구 드로잉 https://class101.net/products/QlYEuYEpdk6OnVxyUV60\n",
      "[⭐️블프특가] 감성을 담은 미니멀 일러스트! 별라랜드의 아이패드 드로잉 https://class101.net/products/QlYEuYEpdk6OnVxyUV60\n",
      "[⭐️블프특가] 선으로 담아내는 감각적인 인물화, 콘(CON)의 아이패드 드로잉 https://class101.net/products/QlYEuYEpdk6OnVxyUV60\n",
      "[⭐️블프특가] 텍스처 브러쉬로 쉽게 쓱-그리는 아이패드 드로잉 https://class101.net/products/QlYEuYEpdk6OnVxyUV60\n",
      "[⭐️블프특가] 평범한 일상에 색을 더하는 시간, 자토의 아이패드 드로잉 https://class101.net/products/QlYEuYEpdk6OnVxyUV60\n",
      "[⭐️블프특가] 5가지 스타일을 한 번에! 달콩의 아이패드 드로잉 https://class101.net/products/QlYEuYEpdk6OnVxyUV60\n",
      "[🔥1+1클래스] 아날로그 텍스처부터 빛과 그림자 까지 아이패드 드로잉 https://class101.net/products/QlYEuYEpdk6OnVxyUV60\n",
      "[⭐️블프특가] 그 곳으로 돌아가다, 아이패드로 따뜻한 감성을 남기는 여행 드로잉 https://class101.net/products/QlYEuYEpdk6OnVxyUV60\n",
      "[⭐️블프특가] 집에서 떠나는 방구석 여행, 선과 색으로 채워가는 아이패드 여행 드로잉 https://class101.net/products/QlYEuYEpdk6OnVxyUV60\n",
      "[⭐️블프특가] 일러스트레이터 이이오의 담백한 아이패드 드로잉 https://class101.net/products/QlYEuYEpdk6OnVxyUV60\n",
      "[⭐️블프특가] 텍스처가 살아있는 따듯한 아이패드 감성 드로잉 https://class101.net/products/QlYEuYEpdk6OnVxyUV60\n",
      "[⭐️블프특가] 아이패드로 힘들이지 않고 쉽게, 부드러운 인물 드로잉 https://class101.net/products/QlYEuYEpdk6OnVxyUV60\n",
      "[⭐️블프특가] 작은 것들을 아기자기하게 그려요. 보담의 아이패드 드로잉 https://class101.net/products/QlYEuYEpdk6OnVxyUV60\n",
      "[🔥1+1클래스] 귀여움 더하기 귀여움, 몽글몽글한 아이패드 드로잉의 모든 것! https://class101.net/products/QlYEuYEpdk6OnVxyUV60\n",
      "[⭐️블프특가] 물 머금은 듯 부드러운 채색, 아이패드 드로잉 https://class101.net/products/QlYEuYEpdk6OnVxyUV60\n",
      "[⭐️블프특가] 사물, 인물 그리고 풍경까지! 아이패드 드로잉의 모든 것 https://class101.net/products/QlYEuYEpdk6OnVxyUV60\n",
      "[⭐️블프특가] 내가 그리고, 네가 간직할 인공의 아이패드 드로잉 https://class101.net/products/QlYEuYEpdk6OnVxyUV60\n",
      "[⭐️블프특가] 환상을 현실로 구체화하는 경험, 인디고의 두 번째 아이패드 드로잉 https://class101.net/products/QlYEuYEpdk6OnVxyUV60\n",
      "잔잔한 색감으로 투명하게 표현하는 인물화, 도하의 두 번째 아이패드 드로잉 https://class101.net/products/QlYEuYEpdk6OnVxyUV60\n"
     ]
    }
   ],
   "source": [
    "### 결과 화면에서 강의명과 url 추출\n",
    "\n",
    "titles = driver.find_elements_by_css_selector(\".Card__Title-sc-1esp5o0-4.bVCpyh\")\n",
    "hrefs = driver.find_elements_by_css_selector(\".ProductCardfragment__HoverStyledLink-sc-1cja13i-0.bzmYOj\")\n",
    "\n",
    "titles_list =[]\n",
    "hrefs_list =[]\n",
    "\n",
    "for i in titles:\n",
    "    title = i.text\n",
    "    titles_list.append(title)\n",
    "    \n",
    "    for a in hrefs:\n",
    "        href = a.get_attribute('href')\n",
    "        if (href not in hrefs_list) :\n",
    "            hrefs_list.append(href)\n",
    "    \n",
    "    print(title, href)"
   ]
  },
  {
   "cell_type": "code",
   "execution_count": 10,
   "metadata": {},
   "outputs": [
    {
     "data": {
      "text/plain": [
       "['[🔥1+1클래스] 따뜻하고 감성적인 그림 만족도 1위 아이패드 드로잉',\n",
       " '[⭐️블프특가] 가구 디자이너가 알려주는 아이패드 프로크리에이트 가구 드로잉',\n",
       " '[⭐️블프특가] 감성을 담은 미니멀 일러스트! 별라랜드의 아이패드 드로잉',\n",
       " '[⭐️블프특가] 선으로 담아내는 감각적인 인물화, 콘(CON)의 아이패드 드로잉',\n",
       " '[⭐️블프특가] 텍스처 브러쉬로 쉽게 쓱-그리는 아이패드 드로잉',\n",
       " '[⭐️블프특가] 평범한 일상에 색을 더하는 시간, 자토의 아이패드 드로잉',\n",
       " '[⭐️블프특가] 5가지 스타일을 한 번에! 달콩의 아이패드 드로잉',\n",
       " '[🔥1+1클래스] 아날로그 텍스처부터 빛과 그림자 까지 아이패드 드로잉',\n",
       " '[⭐️블프특가] 그 곳으로 돌아가다, 아이패드로 따뜻한 감성을 남기는 여행 드로잉',\n",
       " '[⭐️블프특가] 집에서 떠나는 방구석 여행, 선과 색으로 채워가는 아이패드 여행 드로잉',\n",
       " '[⭐️블프특가] 일러스트레이터 이이오의 담백한 아이패드 드로잉',\n",
       " '[⭐️블프특가] 텍스처가 살아있는 따듯한 아이패드 감성 드로잉',\n",
       " '[⭐️블프특가] 아이패드로 힘들이지 않고 쉽게, 부드러운 인물 드로잉',\n",
       " '[⭐️블프특가] 작은 것들을 아기자기하게 그려요. 보담의 아이패드 드로잉',\n",
       " '[🔥1+1클래스] 귀여움 더하기 귀여움, 몽글몽글한 아이패드 드로잉의 모든 것!',\n",
       " '[⭐️블프특가] 물 머금은 듯 부드러운 채색, 아이패드 드로잉',\n",
       " '[⭐️블프특가] 사물, 인물 그리고 풍경까지! 아이패드 드로잉의 모든 것',\n",
       " '[⭐️블프특가] 내가 그리고, 네가 간직할 인공의 아이패드 드로잉',\n",
       " '[⭐️블프특가] 환상을 현실로 구체화하는 경험, 인디고의 두 번째 아이패드 드로잉',\n",
       " '잔잔한 색감으로 투명하게 표현하는 인물화, 도하의 두 번째 아이패드 드로잉']"
      ]
     },
     "execution_count": 10,
     "metadata": {},
     "output_type": "execute_result"
    }
   ],
   "source": [
    "titles_list"
   ]
  },
  {
   "cell_type": "code",
   "execution_count": 30,
   "metadata": {},
   "outputs": [
    {
     "data": {
      "text/plain": [
       "['https://class101.net/products/eZN7hA996Z7plJ992BVt',\n",
       " 'https://class101.net/products/OI02USjs6DI6Txt2qSyA',\n",
       " 'https://class101.net/products/l6EgsRY0FggkOoSHaD0C',\n",
       " 'https://class101.net/products/lFQRg8IiM2rvNQ7yQVlR',\n",
       " 'https://class101.net/products/Cjraugrho5fe12Gnf3nN',\n",
       " 'https://class101.net/products/7ZAjEYZz40u090Xx7wk2',\n",
       " 'https://class101.net/products/l6g00zSCrS0RW87QhHpN',\n",
       " 'https://class101.net/products/zNRLCYcA2ZQVBbQ9eSdD',\n",
       " 'https://class101.net/products/dzhxxjeKLGasfWSivyrb',\n",
       " 'https://class101.net/products/T04tBbPicLxbkOpfhdm7',\n",
       " 'https://class101.net/products/5nFJnhOr7vBYyIjEOaS1',\n",
       " 'https://class101.net/products/VaH2dImbvAEZPGnQbQ6y',\n",
       " 'https://class101.net/products/ezMuyR9D6XjkckLNchV1',\n",
       " 'https://class101.net/products/i22U9EM1CoYkrhBkYZwQ',\n",
       " 'https://class101.net/products/eupo0Qf9ILnxTRmCQGqx',\n",
       " 'https://class101.net/products/dChvUIXAuno76PNLY8iA',\n",
       " 'https://class101.net/products/yFCiiA0pEqo7f0qdmXtf',\n",
       " 'https://class101.net/products/tUjTFBEOQFb9RBCZukuB',\n",
       " 'https://class101.net/products/lAOn4y23qITNwHoRgW9V',\n",
       " 'https://class101.net/products/QlYEuYEpdk6OnVxyUV60']"
      ]
     },
     "execution_count": 30,
     "metadata": {},
     "output_type": "execute_result"
    }
   ],
   "source": [
    "hrefs_list"
   ]
  },
  {
   "cell_type": "code",
   "execution_count": 12,
   "metadata": {},
   "outputs": [],
   "source": [
    "import numpy as np\n",
    "import pandas as pd"
   ]
  },
  {
   "cell_type": "code",
   "execution_count": 31,
   "metadata": {},
   "outputs": [],
   "source": [
    "data = {\"class_title\" : titles_list,\n",
    "       \"link\" : hrefs_list}"
   ]
  },
  {
   "cell_type": "code",
   "execution_count": 33,
   "metadata": {
    "scrolled": true
   },
   "outputs": [
    {
     "name": "stdout",
     "output_type": "stream",
     "text": [
      "20 20\n"
     ]
    }
   ],
   "source": [
    "print(len(titles_list), len(hrefs_list))"
   ]
  },
  {
   "cell_type": "code",
   "execution_count": 34,
   "metadata": {},
   "outputs": [
    {
     "data": {
      "text/plain": [
       "dict"
      ]
     },
     "execution_count": 34,
     "metadata": {},
     "output_type": "execute_result"
    }
   ],
   "source": [
    "type(data)"
   ]
  },
  {
   "cell_type": "code",
   "execution_count": 38,
   "metadata": {},
   "outputs": [
    {
     "data": {
      "text/html": [
       "<div>\n",
       "<style scoped>\n",
       "    .dataframe tbody tr th:only-of-type {\n",
       "        vertical-align: middle;\n",
       "    }\n",
       "\n",
       "    .dataframe tbody tr th {\n",
       "        vertical-align: top;\n",
       "    }\n",
       "\n",
       "    .dataframe thead th {\n",
       "        text-align: right;\n",
       "    }\n",
       "</style>\n",
       "<table border=\"1\" class=\"dataframe\">\n",
       "  <thead>\n",
       "    <tr style=\"text-align: right;\">\n",
       "      <th></th>\n",
       "      <th>class_title</th>\n",
       "      <th>link</th>\n",
       "    </tr>\n",
       "  </thead>\n",
       "  <tbody>\n",
       "    <tr>\n",
       "      <th>0</th>\n",
       "      <td>[🔥1+1클래스] 따뜻하고 감성적인 그림 만족도 1위 아이패드 드로잉</td>\n",
       "      <td>https://class101.net/products/eZN7hA996Z7plJ99...</td>\n",
       "    </tr>\n",
       "    <tr>\n",
       "      <th>1</th>\n",
       "      <td>[⭐️블프특가] 가구 디자이너가 알려주는 아이패드 프로크리에이트 가구 드로잉</td>\n",
       "      <td>https://class101.net/products/OI02USjs6DI6Txt2...</td>\n",
       "    </tr>\n",
       "    <tr>\n",
       "      <th>2</th>\n",
       "      <td>[⭐️블프특가] 감성을 담은 미니멀 일러스트! 별라랜드의 아이패드 드로잉</td>\n",
       "      <td>https://class101.net/products/l6EgsRY0FggkOoSH...</td>\n",
       "    </tr>\n",
       "    <tr>\n",
       "      <th>3</th>\n",
       "      <td>[⭐️블프특가] 선으로 담아내는 감각적인 인물화, 콘(CON)의 아이패드 드로잉</td>\n",
       "      <td>https://class101.net/products/lFQRg8IiM2rvNQ7y...</td>\n",
       "    </tr>\n",
       "    <tr>\n",
       "      <th>4</th>\n",
       "      <td>[⭐️블프특가] 텍스처 브러쉬로 쉽게 쓱-그리는 아이패드 드로잉</td>\n",
       "      <td>https://class101.net/products/Cjraugrho5fe12Gn...</td>\n",
       "    </tr>\n",
       "    <tr>\n",
       "      <th>5</th>\n",
       "      <td>[⭐️블프특가] 평범한 일상에 색을 더하는 시간, 자토의 아이패드 드로잉</td>\n",
       "      <td>https://class101.net/products/7ZAjEYZz40u090Xx...</td>\n",
       "    </tr>\n",
       "    <tr>\n",
       "      <th>6</th>\n",
       "      <td>[⭐️블프특가] 5가지 스타일을 한 번에! 달콩의 아이패드 드로잉</td>\n",
       "      <td>https://class101.net/products/l6g00zSCrS0RW87Q...</td>\n",
       "    </tr>\n",
       "    <tr>\n",
       "      <th>7</th>\n",
       "      <td>[🔥1+1클래스] 아날로그 텍스처부터 빛과 그림자 까지 아이패드 드로잉</td>\n",
       "      <td>https://class101.net/products/zNRLCYcA2ZQVBbQ9...</td>\n",
       "    </tr>\n",
       "    <tr>\n",
       "      <th>8</th>\n",
       "      <td>[⭐️블프특가] 그 곳으로 돌아가다, 아이패드로 따뜻한 감성을 남기는 여행 드로잉</td>\n",
       "      <td>https://class101.net/products/dzhxxjeKLGasfWSi...</td>\n",
       "    </tr>\n",
       "    <tr>\n",
       "      <th>9</th>\n",
       "      <td>[⭐️블프특가] 집에서 떠나는 방구석 여행, 선과 색으로 채워가는 아이패드 여행 드로잉</td>\n",
       "      <td>https://class101.net/products/T04tBbPicLxbkOpf...</td>\n",
       "    </tr>\n",
       "    <tr>\n",
       "      <th>10</th>\n",
       "      <td>[⭐️블프특가] 일러스트레이터 이이오의 담백한 아이패드 드로잉</td>\n",
       "      <td>https://class101.net/products/5nFJnhOr7vBYyIjE...</td>\n",
       "    </tr>\n",
       "    <tr>\n",
       "      <th>11</th>\n",
       "      <td>[⭐️블프특가] 텍스처가 살아있는 따듯한 아이패드 감성 드로잉</td>\n",
       "      <td>https://class101.net/products/VaH2dImbvAEZPGnQ...</td>\n",
       "    </tr>\n",
       "    <tr>\n",
       "      <th>12</th>\n",
       "      <td>[⭐️블프특가] 아이패드로 힘들이지 않고 쉽게, 부드러운 인물 드로잉</td>\n",
       "      <td>https://class101.net/products/ezMuyR9D6XjkckLN...</td>\n",
       "    </tr>\n",
       "    <tr>\n",
       "      <th>13</th>\n",
       "      <td>[⭐️블프특가] 작은 것들을 아기자기하게 그려요. 보담의 아이패드 드로잉</td>\n",
       "      <td>https://class101.net/products/i22U9EM1CoYkrhBk...</td>\n",
       "    </tr>\n",
       "    <tr>\n",
       "      <th>14</th>\n",
       "      <td>[🔥1+1클래스] 귀여움 더하기 귀여움, 몽글몽글한 아이패드 드로잉의 모든 것!</td>\n",
       "      <td>https://class101.net/products/eupo0Qf9ILnxTRmC...</td>\n",
       "    </tr>\n",
       "    <tr>\n",
       "      <th>15</th>\n",
       "      <td>[⭐️블프특가] 물 머금은 듯 부드러운 채색, 아이패드 드로잉</td>\n",
       "      <td>https://class101.net/products/dChvUIXAuno76PNL...</td>\n",
       "    </tr>\n",
       "    <tr>\n",
       "      <th>16</th>\n",
       "      <td>[⭐️블프특가] 사물, 인물 그리고 풍경까지! 아이패드 드로잉의 모든 것</td>\n",
       "      <td>https://class101.net/products/yFCiiA0pEqo7f0qd...</td>\n",
       "    </tr>\n",
       "    <tr>\n",
       "      <th>17</th>\n",
       "      <td>[⭐️블프특가] 내가 그리고, 네가 간직할 인공의 아이패드 드로잉</td>\n",
       "      <td>https://class101.net/products/tUjTFBEOQFb9RBCZ...</td>\n",
       "    </tr>\n",
       "    <tr>\n",
       "      <th>18</th>\n",
       "      <td>[⭐️블프특가] 환상을 현실로 구체화하는 경험, 인디고의 두 번째 아이패드 드로잉</td>\n",
       "      <td>https://class101.net/products/lAOn4y23qITNwHoR...</td>\n",
       "    </tr>\n",
       "    <tr>\n",
       "      <th>19</th>\n",
       "      <td>잔잔한 색감으로 투명하게 표현하는 인물화, 도하의 두 번째 아이패드 드로잉</td>\n",
       "      <td>https://class101.net/products/QlYEuYEpdk6OnVxy...</td>\n",
       "    </tr>\n",
       "  </tbody>\n",
       "</table>\n",
       "</div>"
      ],
      "text/plain": [
       "                                         class_title  \\\n",
       "0             [🔥1+1클래스] 따뜻하고 감성적인 그림 만족도 1위 아이패드 드로잉   \n",
       "1         [⭐️블프특가] 가구 디자이너가 알려주는 아이패드 프로크리에이트 가구 드로잉   \n",
       "2           [⭐️블프특가] 감성을 담은 미니멀 일러스트! 별라랜드의 아이패드 드로잉   \n",
       "3       [⭐️블프특가] 선으로 담아내는 감각적인 인물화, 콘(CON)의 아이패드 드로잉   \n",
       "4                [⭐️블프특가] 텍스처 브러쉬로 쉽게 쓱-그리는 아이패드 드로잉   \n",
       "5           [⭐️블프특가] 평범한 일상에 색을 더하는 시간, 자토의 아이패드 드로잉   \n",
       "6               [⭐️블프특가] 5가지 스타일을 한 번에! 달콩의 아이패드 드로잉   \n",
       "7            [🔥1+1클래스] 아날로그 텍스처부터 빛과 그림자 까지 아이패드 드로잉   \n",
       "8      [⭐️블프특가] 그 곳으로 돌아가다, 아이패드로 따뜻한 감성을 남기는 여행 드로잉   \n",
       "9   [⭐️블프특가] 집에서 떠나는 방구석 여행, 선과 색으로 채워가는 아이패드 여행 드로잉   \n",
       "10                [⭐️블프특가] 일러스트레이터 이이오의 담백한 아이패드 드로잉   \n",
       "11                [⭐️블프특가] 텍스처가 살아있는 따듯한 아이패드 감성 드로잉   \n",
       "12            [⭐️블프특가] 아이패드로 힘들이지 않고 쉽게, 부드러운 인물 드로잉   \n",
       "13          [⭐️블프특가] 작은 것들을 아기자기하게 그려요. 보담의 아이패드 드로잉   \n",
       "14      [🔥1+1클래스] 귀여움 더하기 귀여움, 몽글몽글한 아이패드 드로잉의 모든 것!   \n",
       "15                [⭐️블프특가] 물 머금은 듯 부드러운 채색, 아이패드 드로잉   \n",
       "16          [⭐️블프특가] 사물, 인물 그리고 풍경까지! 아이패드 드로잉의 모든 것   \n",
       "17              [⭐️블프특가] 내가 그리고, 네가 간직할 인공의 아이패드 드로잉   \n",
       "18     [⭐️블프특가] 환상을 현실로 구체화하는 경험, 인디고의 두 번째 아이패드 드로잉   \n",
       "19         잔잔한 색감으로 투명하게 표현하는 인물화, 도하의 두 번째 아이패드 드로잉   \n",
       "\n",
       "                                                 link  \n",
       "0   https://class101.net/products/eZN7hA996Z7plJ99...  \n",
       "1   https://class101.net/products/OI02USjs6DI6Txt2...  \n",
       "2   https://class101.net/products/l6EgsRY0FggkOoSH...  \n",
       "3   https://class101.net/products/lFQRg8IiM2rvNQ7y...  \n",
       "4   https://class101.net/products/Cjraugrho5fe12Gn...  \n",
       "5   https://class101.net/products/7ZAjEYZz40u090Xx...  \n",
       "6   https://class101.net/products/l6g00zSCrS0RW87Q...  \n",
       "7   https://class101.net/products/zNRLCYcA2ZQVBbQ9...  \n",
       "8   https://class101.net/products/dzhxxjeKLGasfWSi...  \n",
       "9   https://class101.net/products/T04tBbPicLxbkOpf...  \n",
       "10  https://class101.net/products/5nFJnhOr7vBYyIjE...  \n",
       "11  https://class101.net/products/VaH2dImbvAEZPGnQ...  \n",
       "12  https://class101.net/products/ezMuyR9D6XjkckLN...  \n",
       "13  https://class101.net/products/i22U9EM1CoYkrhBk...  \n",
       "14  https://class101.net/products/eupo0Qf9ILnxTRmC...  \n",
       "15  https://class101.net/products/dChvUIXAuno76PNL...  \n",
       "16  https://class101.net/products/yFCiiA0pEqo7f0qd...  \n",
       "17  https://class101.net/products/tUjTFBEOQFb9RBCZ...  \n",
       "18  https://class101.net/products/lAOn4y23qITNwHoR...  \n",
       "19  https://class101.net/products/QlYEuYEpdk6OnVxy...  "
      ]
     },
     "execution_count": 38,
     "metadata": {},
     "output_type": "execute_result"
    }
   ],
   "source": [
    "### DataFrame형태로 변환\n",
    "\n",
    "df = pd.DataFrame(data)\n",
    "df"
   ]
  },
  {
   "cell_type": "code",
   "execution_count": 37,
   "metadata": {},
   "outputs": [
    {
     "data": {
      "text/html": [
       "<div>\n",
       "<style scoped>\n",
       "    .dataframe tbody tr th:only-of-type {\n",
       "        vertical-align: middle;\n",
       "    }\n",
       "\n",
       "    .dataframe tbody tr th {\n",
       "        vertical-align: top;\n",
       "    }\n",
       "\n",
       "    .dataframe thead th {\n",
       "        text-align: right;\n",
       "    }\n",
       "</style>\n",
       "<table border=\"1\" class=\"dataframe\">\n",
       "  <thead>\n",
       "    <tr style=\"text-align: right;\">\n",
       "      <th></th>\n",
       "      <th>class_title</th>\n",
       "      <th>link</th>\n",
       "    </tr>\n",
       "  </thead>\n",
       "  <tbody>\n",
       "    <tr>\n",
       "      <th>15</th>\n",
       "      <td>[⭐️블프특가] 물 머금은 듯 부드러운 채색, 아이패드 드로잉</td>\n",
       "      <td>https://class101.net/products/dChvUIXAuno76PNL...</td>\n",
       "    </tr>\n",
       "    <tr>\n",
       "      <th>13</th>\n",
       "      <td>[⭐️블프특가] 작은 것들을 아기자기하게 그려요. 보담의 아이패드 드로잉</td>\n",
       "      <td>https://class101.net/products/i22U9EM1CoYkrhBk...</td>\n",
       "    </tr>\n",
       "  </tbody>\n",
       "</table>\n",
       "</div>"
      ],
      "text/plain": [
       "                                 class_title  \\\n",
       "15        [⭐️블프특가] 물 머금은 듯 부드러운 채색, 아이패드 드로잉   \n",
       "13  [⭐️블프특가] 작은 것들을 아기자기하게 그려요. 보담의 아이패드 드로잉   \n",
       "\n",
       "                                                 link  \n",
       "15  https://class101.net/products/dChvUIXAuno76PNL...  \n",
       "13  https://class101.net/products/i22U9EM1CoYkrhBk...  "
      ]
     },
     "execution_count": 37,
     "metadata": {},
     "output_type": "execute_result"
    }
   ],
   "source": [
    "### 랜덤으로 n개 추출\n",
    "\n",
    "df.sample(n=2)"
   ]
  },
  {
   "cell_type": "code",
   "execution_count": null,
   "metadata": {},
   "outputs": [],
   "source": []
  }
 ],
 "metadata": {
  "kernelspec": {
   "display_name": "Python 3",
   "language": "python",
   "name": "python3"
  },
  "language_info": {
   "codemirror_mode": {
    "name": "ipython",
    "version": 3
   },
   "file_extension": ".py",
   "mimetype": "text/x-python",
   "name": "python",
   "nbconvert_exporter": "python",
   "pygments_lexer": "ipython3",
   "version": "3.8.8"
  }
 },
 "nbformat": 4,
 "nbformat_minor": 4
}
